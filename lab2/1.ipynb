{
 "cells": [
  {
   "cell_type": "markdown",
   "id": "71a2ff8d",
   "metadata": {},
   "source": [
    "Применимость методов BFGS/L-BFGS:\n",
    "\n",
    "Эти алгоритмы гарантированно сходятся для дважды дифференцируемых выпуклых функций. Проверим нашу функцию на соответствие этим требованиям."
   ]
  },
  {
   "cell_type": "code",
   "execution_count": null,
   "id": "ba51d53c",
   "metadata": {},
   "outputs": [],
   "source": [
    "import numpy as np\n",
    "from utils import bfgs, lbfgs\n",
    "\n",
    "def target_function(x):\n",
    "    \"\"\"\n",
    "    Целевая функция для минимизации:\n",
    "    f(x) = 0.5 * [x₁² + (x₁-x₂)² + (x₂-x₃)² + x₃²] - x₁\n",
    "    \"\"\"\n",
    "    x1, x2, x3 = x[0], x[1], x[2]\n",
    "    # Более простая для вычислений форма: f(x) = x₁² + x₂² + x₃² - x₁x₂ - x₂x₃ - x₁\n",
    "    return x1**2 + x2**2 + x3**2 - x1*x2 - x2*x3 - x1\n",
    "\n",
    "def analytical_gradient(x):\n",
    "    \"\"\"\n",
    "    Аналитически вычисленный градиент целевой функции.\n",
    "    \"\"\"\n",
    "    x1, x2, x3 = x[0], x[1], x[2]\n",
    "    df_dx1 = 2 * x1 - x2 - 1\n",
    "    df_dx2 = 2 * x2 - x1 - x3\n",
    "    df_dx3 = 2 * x3 - x2\n",
    "    return np.array([df_dx1, df_dx2, df_dx3])\n",
    "\n",
    "def numerical_gradient(func, x, h=1e-7):\n",
    "    \"\"\"\n",
    "    Численное вычисление градиента с использованием центральной разности (формула 7).\n",
    "    \"\"\"\n",
    "    grad = np.zeros_like(x)\n",
    "    for i in range(len(x)):\n",
    "        # Создаем векторы x+h*eᵢ и x-h*eᵢ\n",
    "        x_plus_h = x.copy()\n",
    "        x_plus_h[i] += h\n",
    "        x_minus_h = x.copy()\n",
    "        x_minus_h[i] -= h\n",
    "        \n",
    "        # Применяем формулу центральной разности\n",
    "        grad[i] = (func(x_plus_h) - func(x_minus_h)) / (2 * h)\n",
    "    return grad\n",
    "    "
   ]
  },
  {
   "cell_type": "code",
   "execution_count": 9,
   "id": "7fe6faf7",
   "metadata": {},
   "outputs": [
    {
     "name": "stdout",
     "output_type": "stream",
     "text": [
      "==================================================\n",
      "Запуск BFGS с аналитическим градиентом\n",
      "==================================================\n",
      "BFGS сошелся за 7 итераций.\n",
      "Найденный минимум x: [0.75       0.5        0.24999999]\n",
      "Значение функции в минимуме f(x): -0.3749999999999999\n",
      "\n"
     ]
    }
   ],
   "source": [
    "# Начальная точка для всех методов\n",
    "x0 = np.array([0.0, 0.0, 0.0])\n",
    "print(\"=\"*50)\n",
    "print(\"Запуск BFGS с аналитическим градиентом\")\n",
    "print(\"=\"*50)\n",
    "x_final_bfgs_analytic, f_min_bfgs_analytic, _ = bfgs(target_function, analytical_gradient, x0)\n",
    "print(f\"Найденный минимум x: {x_final_bfgs_analytic}\")\n",
    "print(f\"Значение функции в минимуме f(x): {f_min_bfgs_analytic}\\n\")"
   ]
  },
  {
   "cell_type": "code",
   "execution_count": 10,
   "id": "2d76651b",
   "metadata": {},
   "outputs": [
    {
     "name": "stdout",
     "output_type": "stream",
     "text": [
      "Запуск BFGS с численным градиентом\n",
      "BFGS сошелся за 7 итераций.\n",
      "Найденный минимум x: [0.75       0.5        0.24999999]\n",
      "Значение функции в минимуме f(x): -0.375\n",
      "\n"
     ]
    }
   ],
   "source": [
    "print(\"Запуск BFGS с численным градиентом\")\n",
    "# Оборачиваем grad_f в lambda, чтобы передать только один аргумент x\n",
    "x_final_bfgs_numeric, f_min_bfgs_numeric, _ = bfgs(target_function, lambda x: numerical_gradient(target_function, x), x0)\n",
    "print(f\"Найденный минимум x: {x_final_bfgs_numeric}\")\n",
    "print(f\"Значение функции в минимуме f(x): {f_min_bfgs_numeric}\\n\")"
   ]
  },
  {
   "cell_type": "code",
   "execution_count": 11,
   "id": "104cd11b",
   "metadata": {},
   "outputs": [
    {
     "name": "stdout",
     "output_type": "stream",
     "text": [
      "Запуск L-BFGS с аналитическим градиентом (m=5)\n",
      "L-BFGS (m=5) сошелся за 7 итераций.\n",
      "Найденный минимум x: [0.75       0.5        0.24999999]\n",
      "Значение функции в минимуме f(x): -0.37499999999999994\n",
      "\n"
     ]
    }
   ],
   "source": [
    "print(\"Запуск L-BFGS с аналитическим градиентом (m=5)\")\n",
    "x_final_lbfgs_analytic, f_min_lbfgs_analytic, _ = lbfgs(target_function, analytical_gradient, x0, m=5)\n",
    "print(f\"Найденный минимум x: {x_final_lbfgs_analytic}\")\n",
    "print(f\"Значение функции в минимуме f(x): {f_min_lbfgs_analytic}\\n\")"
   ]
  },
  {
   "cell_type": "code",
   "execution_count": 12,
   "id": "9d148bbd",
   "metadata": {},
   "outputs": [
    {
     "name": "stdout",
     "output_type": "stream",
     "text": [
      "Запуск L-BFGS с численным градиентом (m=5)\n",
      "L-BFGS (m=5) сошелся за 7 итераций.\n",
      "Найденный минимум x: [0.75       0.5        0.24999999]\n",
      "Значение функции в минимуме f(x): -0.375\n",
      "\n"
     ]
    }
   ],
   "source": [
    "print(\"Запуск L-BFGS с численным градиентом (m=5)\")\n",
    "x_final_lbfgs_numeric, f_min_lbfgs_numeric, _ = lbfgs(target_function, lambda x: numerical_gradient(target_function, x), x0, m=5)\n",
    "print(f\"Найденный минимум x: {x_final_lbfgs_numeric}\")\n",
    "print(f\"Значение функции в минимуме f(x): {f_min_lbfgs_numeric}\\n\")"
   ]
  },
  {
   "cell_type": "code",
   "execution_count": 13,
   "id": "3c34b867",
   "metadata": {},
   "outputs": [
    {
     "name": "stdout",
     "output_type": "stream",
     "text": [
      "==================================================\n",
      "Аналитическое решение: [0.75 0.5  0.25]\n",
      "Значение функции в точке аналитического решения: -0.375\n",
      "==================================================\n"
     ]
    }
   ],
   "source": [
    "# Аналитическое решение для сравнения\n",
    "# H * x = b, где b = [1, 0, 0]^T\n",
    "# [[2, -1, 0], [-1, 2, -1], [0, -1, 2]] * [x1, x2, x3]^T = [1, 0, 0]^T\n",
    "# Решение системы: x1=0.75, x2=0.5, x3=0.25\n",
    "H_inv = np.linalg.inv(np.array([[2, -1, 0], [-1, 2, -1], [0, -1, 2]]))\n",
    "b = np.array([1, 0, 0])\n",
    "analytical_solution = H_inv.dot(b)\n",
    "print(\"=\"*50)\n",
    "print(f\"Аналитическое решение: {analytical_solution}\")\n",
    "print(f\"Значение функции в точке аналитического решения: {target_function(analytical_solution)}\")\n",
    "print(\"=\"*50)"
   ]
  }
 ],
 "metadata": {
  "kernelspec": {
   "display_name": "base",
   "language": "python",
   "name": "python3"
  },
  "language_info": {
   "codemirror_mode": {
    "name": "ipython",
    "version": 3
   },
   "file_extension": ".py",
   "mimetype": "text/x-python",
   "name": "python",
   "nbconvert_exporter": "python",
   "pygments_lexer": "ipython3",
   "version": "3.12.3"
  }
 },
 "nbformat": 4,
 "nbformat_minor": 5
}
